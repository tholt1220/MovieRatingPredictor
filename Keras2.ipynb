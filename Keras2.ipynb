{
 "cells": [
  {
   "cell_type": "code",
   "execution_count": 1,
   "metadata": {},
   "outputs": [],
   "source": [
    "import pandas as pd\n",
    "import numpy as np\n",
    "\n",
    "train_ratings = pd.read_csv(\"train_ratings.csv\")\n",
    "val_ratings = pd.read_csv(\"val_ratings.csv\")"
   ]
  },
  {
   "cell_type": "code",
   "execution_count": 2,
   "metadata": {},
   "outputs": [],
   "source": [
    "num_users = int(train_ratings['userId'].max() + 1) #138494\n",
    "num_movies = int(train_ratings['movieId'].max() + 1) #120467\n",
    "EMBEDDINGS = 50 #hyperparameter\n",
    "\n",
    "train_X = [train_ratings['userId'], train_ratings['movieId']]\n",
    "train_y = train_ratings['rating']\n",
    "val_X = [val_ratings['userId'], val_ratings['movieId']]\n",
    "val_y = val_ratings['rating']"
   ]
  },
  {
   "cell_type": "code",
   "execution_count": 3,
   "metadata": {},
   "outputs": [
    {
     "name": "stderr",
     "output_type": "stream",
     "text": [
      "Using TensorFlow backend.\n"
     ]
    },
    {
     "name": "stdout",
     "output_type": "stream",
     "text": [
      "WARNING:tensorflow:From C:\\Users\\JSich\\Anaconda3\\envs\\keras\\lib\\site-packages\\tensorflow\\python\\framework\\op_def_library.py:263: colocate_with (from tensorflow.python.framework.ops) is deprecated and will be removed in a future version.\n",
      "Instructions for updating:\n",
      "Colocations handled automatically by placer.\n"
     ]
    }
   ],
   "source": [
    "from keras.models import Model\n",
    "from keras.models import Sequential\n",
    "from keras.layers import *\n",
    "#http://www.fenris.org/2016/03/07/index-html\n",
    "User = Sequential()\n",
    "Movie = Sequential()\n",
    "User.add(Embedding(num_users, EMBEDDINGS, input_length=1))\n",
    "Movie.add(Embedding(num_movies, EMBEDDINGS, input_length=1))\n",
    "\n",
    "User.add(Flatten())\n",
    "Movie.add(Flatten())\n",
    "\n",
    "#Added = Add()([User.output, Movie.output])\n",
    "Output = dot([User.output, Movie.output], axes=1)\n"
   ]
  },
  {
   "cell_type": "code",
   "execution_count": 4,
   "metadata": {},
   "outputs": [],
   "source": [
    "from keras.callbacks import Callback, EarlyStopping, ModelCheckpoint\n",
    "\n",
    "model = Model(inputs=[User.input, Movie.input], outputs=[Output])\n",
    "model.compile(loss='mse', optimizer='adamax') #https://www.quora.com/When-would-you-use-Adamax-over-Adam"
   ]
  },
  {
   "cell_type": "code",
   "execution_count": 5,
   "metadata": {},
   "outputs": [
    {
     "name": "stdout",
     "output_type": "stream",
     "text": [
      "WARNING:tensorflow:From C:\\Users\\JSich\\Anaconda3\\envs\\keras\\lib\\site-packages\\tensorflow\\python\\ops\\math_ops.py:3066: to_int32 (from tensorflow.python.ops.math_ops) is deprecated and will be removed in a future version.\n",
      "Instructions for updating:\n",
      "Use tf.cast instead.\n",
      "Train on 11946576 samples, validate on 3999236 samples\n",
      "Epoch 1/30\n",
      " - 1960s - loss: 5.6640 - val_loss: 3.9975\n",
      "Epoch 2/30\n",
      " - 2339s - loss: 1.4367 - val_loss: 2.5804\n",
      "Epoch 3/30\n",
      " - 1950s - loss: 1.0485 - val_loss: 2.0664\n",
      "Epoch 4/30\n",
      " - 1947s - loss: 0.9266 - val_loss: 1.7836\n",
      "Epoch 5/30\n",
      " - 1947s - loss: 0.8714 - val_loss: 1.5991\n",
      "Epoch 6/30\n",
      " - 1947s - loss: 0.8402 - val_loss: 1.4684\n",
      "Epoch 7/30\n",
      " - 1945s - loss: 0.8191 - val_loss: 1.3720\n",
      "Epoch 8/30\n",
      " - 1943s - loss: 0.8029 - val_loss: 1.2955\n",
      "Epoch 9/30\n",
      " - 1943s - loss: 0.7884 - val_loss: 1.2343\n",
      "Epoch 10/30\n",
      " - 1944s - loss: 0.7744 - val_loss: 1.1830\n",
      "Epoch 11/30\n",
      " - 1943s - loss: 0.7592 - val_loss: 1.1385\n",
      "Epoch 12/30\n",
      " - 1942s - loss: 0.7435 - val_loss: 1.1007\n",
      "Epoch 13/30\n",
      " - 1943s - loss: 0.7286 - val_loss: 1.0676\n",
      "Epoch 14/30\n",
      " - 1943s - loss: 0.7144 - val_loss: 1.0379\n",
      "Epoch 15/30\n",
      " - 1943s - loss: 0.7009 - val_loss: 1.0131\n",
      "Epoch 16/30\n",
      " - 1943s - loss: 0.6883 - val_loss: 0.9903\n",
      "Epoch 17/30\n",
      " - 1942s - loss: 0.6763 - val_loss: 0.9701\n",
      "Epoch 18/30\n",
      " - 1943s - loss: 0.6648 - val_loss: 0.9525\n",
      "Epoch 19/30\n",
      " - 1947s - loss: 0.6536 - val_loss: 0.9362\n",
      "Epoch 20/30\n",
      " - 1944s - loss: 0.6427 - val_loss: 0.9221\n",
      "Epoch 21/30\n",
      " - 1945s - loss: 0.6323 - val_loss: 0.9090\n",
      "Epoch 22/30\n",
      " - 1944s - loss: 0.6226 - val_loss: 0.8973\n",
      "Epoch 23/30\n",
      " - 1942s - loss: 0.6136 - val_loss: 0.8872\n",
      "Epoch 24/30\n",
      " - 1942s - loss: 0.6055 - val_loss: 0.8779\n",
      "Epoch 25/30\n",
      " - 1942s - loss: 0.5981 - val_loss: 0.8702\n",
      "Epoch 26/30\n",
      " - 1942s - loss: 0.5914 - val_loss: 0.8623\n",
      "Epoch 27/30\n",
      " - 1943s - loss: 0.5852 - val_loss: 0.8557\n",
      "Epoch 28/30\n",
      " - 1943s - loss: 0.5797 - val_loss: 0.8496\n",
      "Epoch 29/30\n",
      " - 1943s - loss: 0.5745 - val_loss: 0.8442\n",
      "Epoch 30/30\n",
      " - 2091s - loss: 0.5697 - val_loss: 0.8392\n"
     ]
    }
   ],
   "source": [
    "callbacks = [EarlyStopping('val_loss', patience=3), ModelCheckpoint(\"best_model.hdf5\", save_best_only=True)]\n",
    "history = model.fit(train_X, train_y, epochs=30, validation_data=(val_X, val_y), verbose=2, callbacks=callbacks)"
   ]
  },
  {
   "cell_type": "code",
   "execution_count": 6,
   "metadata": {},
   "outputs": [
    {
     "name": "stdout",
     "output_type": "stream",
     "text": [
      "4054451/4054451 [==============================] - 98s 24us/step\n"
     ]
    }
   ],
   "source": [
    "#latest model\n",
    "test_ratings = pd.read_csv(\"test_ratings.csv\")\n",
    "predictions = model.predict([test_ratings['userId'], test_ratings['movieId']], verbose=1)"
   ]
  },
  {
   "cell_type": "code",
   "execution_count": 7,
   "metadata": {},
   "outputs": [],
   "source": [
    "pred_df = pd.DataFrame(predictions, columns=['rating'])\n",
    "result = pd.concat([test_ratings[\"Id\"], pred_df], axis=1, sort=False)\n",
    "result.to_csv('keras_2_latest_result.csv', columns=['Id', 'rating'], index = None)"
   ]
  },
  {
   "cell_type": "code",
   "execution_count": 8,
   "metadata": {},
   "outputs": [],
   "source": [
    "#rounded to nearest 0.5\n",
    "pred_df = pd.DataFrame(np.around(predictions * 2) / 2, columns=['rating'])\n",
    "result = pd.concat([test_ratings[\"Id\"], pred_df], axis=1, sort=False)\n",
    "result.to_csv('keras_2_latest_result_rounded.csv', columns=['Id', 'rating'], index = None)"
   ]
  }
 ],
 "metadata": {
  "kernelspec": {
   "display_name": "Python 3",
   "language": "python",
   "name": "python3"
  },
  "language_info": {
   "codemirror_mode": {
    "name": "ipython",
    "version": 3
   },
   "file_extension": ".py",
   "mimetype": "text/x-python",
   "name": "python",
   "nbconvert_exporter": "python",
   "pygments_lexer": "ipython3",
   "version": "3.7.1"
  }
 },
 "nbformat": 4,
 "nbformat_minor": 2
}
