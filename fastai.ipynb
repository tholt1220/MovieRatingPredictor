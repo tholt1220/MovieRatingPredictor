{
 "cells": [
  {
   "cell_type": "code",
   "execution_count": 1,
   "metadata": {},
   "outputs": [],
   "source": [
    "import pandas as pd\n",
    "\n",
    "train_ratings = pd.read_csv(\"train_ratings.csv\")\n",
    "val_ratings = pd.read_csv(\"val_ratings.csv\")\n",
    "combined_ratings = train_ratings.append(val_ratings, ignore_index=True, sort=True) #cross validation is used, its ok to combine\n",
    "test_ratings = pd.read_csv(\"test_ratings.csv\")"
   ]
  },
  {
   "cell_type": "code",
   "execution_count": 2,
   "metadata": {},
   "outputs": [
    {
     "data": {
      "text/html": [
       "Total time: 2:05:23 <p><table border=\"1\" class=\"dataframe\">\n",
       "  <thead>\n",
       "    <tr style=\"text-align: left;\">\n",
       "      <th>epoch</th>\n",
       "      <th>train_loss</th>\n",
       "      <th>valid_loss</th>\n",
       "    </tr>\n",
       "  </thead>\n",
       "  <tbody>\n",
       "    <tr>\n",
       "      <td>1</td>\n",
       "      <td>0.709542</td>\n",
       "      <td>0.670500</td>\n",
       "    </tr>\n",
       "    <tr>\n",
       "      <td>2</td>\n",
       "      <td>0.616901</td>\n",
       "      <td>0.656927</td>\n",
       "    </tr>\n",
       "    <tr>\n",
       "      <td>3</td>\n",
       "      <td>0.566475</td>\n",
       "      <td>0.667041</td>\n",
       "    </tr>\n",
       "    <tr>\n",
       "      <td>4</td>\n",
       "      <td>0.527403</td>\n",
       "      <td>0.680443</td>\n",
       "    </tr>\n",
       "    <tr>\n",
       "      <td>5</td>\n",
       "      <td>0.527079</td>\n",
       "      <td>0.692519</td>\n",
       "    </tr>\n",
       "  </tbody>\n",
       "</table>"
      ],
      "text/plain": [
       "<IPython.core.display.HTML object>"
      ]
     },
     "metadata": {},
     "output_type": "display_data"
    }
   ],
   "source": [
    "from fastai.collab import * #https://docs.fast.ai/install.html\n",
    "#https://docs.fast.ai/collab.html\n",
    "data = CollabDataBunch.from_df(ratings=combined_ratings, user_name='userId', item_name='movieId', rating_name='rating', test=test_ratings.drop('Id', axis=1))\n",
    "learn = collab_learner(data, n_factors=50, y_range=(0.5,5.0))\n",
    "# learn.lr_find()\n",
    "# learn.recorder.plot()\n",
    "learn.fit(epochs=5, lr=1e-3, wd=1e-5)\n",
    "#learn.fit_one_cycle(5, 1e-2, wd=1e-5)"
   ]
  },
  {
   "cell_type": "code",
   "execution_count": 3,
   "metadata": {},
   "outputs": [],
   "source": [
    "#https://docs.fast.ai/basic_train.html#Learner.predict\n",
    "predictions = learn.get_preds(ds_type=DatasetType.Test)"
   ]
  },
  {
   "cell_type": "code",
   "execution_count": 5,
   "metadata": {},
   "outputs": [],
   "source": [
    "pred_y = np.array(predictions[0])\n",
    "pred_df_y = pd.DataFrame(pred_y, columns=['rating'])\n",
    "result_y = pd.concat([test_ratings[\"Id\"], pred_df_y], axis=1, sort=False)\n",
    "result_y.to_csv('fastai_label_result.csv', columns=['Id', 'rating'], index = None)"
   ]
  }
 ],
 "metadata": {
  "kernelspec": {
   "display_name": "Python 3",
   "language": "python",
   "name": "python3"
  },
  "language_info": {
   "codemirror_mode": {
    "name": "ipython",
    "version": 3
   },
   "file_extension": ".py",
   "mimetype": "text/x-python",
   "name": "python",
   "nbconvert_exporter": "python",
   "pygments_lexer": "ipython3",
   "version": "3.7.1"
  }
 },
 "nbformat": 4,
 "nbformat_minor": 2
}
