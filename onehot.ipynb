{
 "cells": [
  {
   "cell_type": "code",
   "execution_count": 162,
   "metadata": {},
   "outputs": [
    {
     "name": "stdout",
     "output_type": "stream",
     "text": [
      "          userId  movieId  rating\n",
      "11946572  138493    380.0     3.0\n",
      "11946573  138493    454.0     4.0\n",
      "11946574  138493    500.0     4.0\n",
      "11946575  138493    508.0     4.0\n",
      "11946576       1  83773.0     1.0\n"
     ]
    }
   ],
   "source": [
    "import pandas as pd\n",
    "import numpy as np\n",
    "#loading the data\n",
    "\n",
    "train_ratings = pd.read_csv(\"train_ratings.csv\")\n",
    "no_genre = pd.DataFrame([[1, 83773.0, 1]], columns=['userId', 'movieId','rating']) #movie with genre 'none'\n",
    "train_ratings = train_ratings.append(no_genre, ignore_index=True, sort=False) #insert movie at the end\n",
    "print(train_ratings.tail())\n",
    "val_ratings = pd.read_csv(\"val_ratings.csv\")\n",
    "test_ratings = pd.read_csv(\"test_ratings.csv\")"
   ]
  },
  {
   "cell_type": "code",
   "execution_count": 151,
   "metadata": {},
   "outputs": [
    {
     "name": "stdout",
     "output_type": "stream",
     "text": [
      "   movieId                                             genres\n",
      "0        1  [adventure, animation, children, comedy, fantasy]\n",
      "1        2                     [adventure, children, fantasy]\n",
      "2        3                                  [comedy, romance]\n",
      "3        4                           [comedy, drama, romance]\n",
      "4        5                                           [comedy]\n"
     ]
    }
   ],
   "source": [
    "import string\n",
    "from gensim.parsing.preprocessing import *\n",
    "from gensim.utils import simple_preprocess\n",
    "movies = pd.read_csv(\"movies.csv\")\n",
    "movies.genres.replace(to_replace='(no genres listed)', value='none', inplace=True) #merge into one genre\n",
    "movies.genres = movies['genres'].apply(lambda x: simple_preprocess(x))\n",
    "movies.drop('title', axis=1, inplace=True)\n",
    "print(movies.head())"
   ]
  },
  {
   "cell_type": "code",
   "execution_count": 163,
   "metadata": {},
   "outputs": [
    {
     "name": "stdout",
     "output_type": "stream",
     "text": [
      "   userId  movieId  rating                                 genres\n",
      "0       1      7.0     3.5                      [comedy, romance]\n",
      "1       1     50.0     3.0             [crime, mystery, thriller]\n",
      "2       1    151.0     4.5          [action, drama, romance, war]\n",
      "3       1    160.0     3.5  [action, adventure, mystery, sci, fi]\n",
      "4       1    173.0     3.0               [action, crime, sci, fi]\n"
     ]
    }
   ],
   "source": [
    "train_genres = train_ratings.merge(movies, how='left', left_on='movieId', right_on='movieId')\n",
    "print(train_genres.head())\n",
    "# # train_genres.to_csv('train_ratings_processed.csv', index = None)\n",
    "# # print(len(train_ratings.index), len(train_genres.index))\n",
    "val_genres = val_ratings.merge(movies, how='left', left_on='movieId', right_on='movieId')\n",
    "test_genres = test_ratings.merge(movies, how='left', left_on='movieId', right_on='movieId')"
   ]
  },
  {
   "cell_type": "code",
   "execution_count": 153,
   "metadata": {},
   "outputs": [],
   "source": [
    "# train_genres = pd.read_csv(\"train_ratings_processed.csv\")\n",
    "# val_genres = pd.read_csv(\"val_ratings_processed.csv\")\n",
    "# test_genres = pd.read_csv(\"test_ratings_processed.csv\")"
   ]
  },
  {
   "cell_type": "code",
   "execution_count": 154,
   "metadata": {},
   "outputs": [],
   "source": [
    "from sklearn.preprocessing import MultiLabelBinarizer\n",
    "\n",
    "mlb = MultiLabelBinarizer()\n",
    "train_one_hot = train_genres.join(pd.DataFrame(mlb.fit_transform(train_genres.pop('genres')), columns=mlb.classes_, index=train_genres.index))\n",
    "train_one_hot.to_csv('train_ratings_one_hot.csv', index = None)\n",
    "print(train_one_hot.tail())\n",
    "train_one_hot.drop(train_one_hot.tail(1).index,inplace=True) #drop the row inserted earlier\n",
    "print(train_one_hot.tail())"
   ]
  },
  {
   "cell_type": "code",
   "execution_count": 155,
   "metadata": {},
   "outputs": [],
   "source": [
    "mlb = MultiLabelBinarizer()\n",
    "val_one_hot = val_genres.join(pd.DataFrame(mlb.fit_transform(val_genres.pop('genres')), columns=mlb.classes_, index=val_genres.index))\n",
    "val_one_hot.to_csv('val_ratings_one_hot.csv', index = None)"
   ]
  },
  {
   "cell_type": "code",
   "execution_count": 156,
   "metadata": {},
   "outputs": [],
   "source": [
    "mlb = MultiLabelBinarizer()\n",
    "test_one_hot = test_genres.join(pd.DataFrame(mlb.fit_transform(test_genres.pop('genres')), columns=mlb.classes_, index=test_genres.index))\n",
    "test_one_hot.to_csv('test_ratings_one_hot.csv', index = None)"
   ]
  },
  {
   "cell_type": "code",
   "execution_count": null,
   "metadata": {},
   "outputs": [],
   "source": []
  }
 ],
 "metadata": {
  "kernelspec": {
   "display_name": "Python 3",
   "language": "python",
   "name": "python3"
  },
  "language_info": {
   "codemirror_mode": {
    "name": "ipython",
    "version": 3
   },
   "file_extension": ".py",
   "mimetype": "text/x-python",
   "name": "python",
   "nbconvert_exporter": "python",
   "pygments_lexer": "ipython3",
   "version": "3.7.1"
  }
 },
 "nbformat": 4,
 "nbformat_minor": 2
}
